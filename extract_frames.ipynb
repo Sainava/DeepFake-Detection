{
 "cells": [
  {
   "cell_type": "code",
   "execution_count": 2,
   "id": "019a843d",
   "metadata": {},
   "outputs": [
    {
     "name": "stderr",
     "output_type": "stream",
     "text": [
      "Processing real: 100%|██████████| 1000/1000 [40:04<00:00,  2.40s/it] \n",
      "Processing fake: 100%|██████████| 1000/1000 [39:59<00:00,  2.40s/it] \n"
     ]
    }
   ],
   "source": [
    "import os\n",
    "import cv2\n",
    "import torch\n",
    "from pathlib import Path\n",
    "from tqdm import tqdm\n",
    "\n",
    "# Parameters\n",
    "input_dir = \"raw_videos\"   # Folder containing your 'real' and 'fake' folders\n",
    "output_dir = \"dataset\"     # Folder to save extracted frames\n",
    "frame_size = (224, 224)\n",
    "frames_per_video = 32      # Fixed number of frames for uniformity\n",
    "\n",
    "# Ensure output structure\n",
    "os.makedirs(output_dir, exist_ok=True)\n",
    "\n",
    "def extract_frames_from_video(video_path, save_dir, num_frames=frames_per_video):\n",
    "    cap = cv2.VideoCapture(str(video_path))\n",
    "    total_frames = int(cap.get(cv2.CAP_PROP_FRAME_COUNT))\n",
    "\n",
    "    # Calculate frame indices to sample\n",
    "    if total_frames < num_frames:\n",
    "        indices = list(range(total_frames)) + [total_frames - 1] * (num_frames - total_frames)  # Repeat last\n",
    "    else:\n",
    "        indices = torch.linspace(0, total_frames - 1, steps=num_frames).long().tolist()\n",
    "\n",
    "    frame_id = 0\n",
    "    saved = 0\n",
    "    for idx in range(total_frames):\n",
    "        success, frame = cap.read()\n",
    "        if not success:\n",
    "            break\n",
    "        if idx == indices[saved]:\n",
    "            frame = cv2.resize(frame, frame_size)\n",
    "            save_path = save_dir / f\"frame_{saved:04d}.jpg\"\n",
    "            cv2.imwrite(str(save_path), frame)\n",
    "            saved += 1\n",
    "        if saved >= num_frames:\n",
    "            break\n",
    "    cap.release()\n",
    "\n",
    "def process_videos(input_dir, output_dir):\n",
    "    for label in [\"real\", \"fake\"]:\n",
    "        class_input_path = Path(input_dir) / label\n",
    "        class_output_path = Path(output_dir) / label\n",
    "        class_output_path.mkdir(parents=True, exist_ok=True)\n",
    "\n",
    "        for video_file in tqdm(os.listdir(class_input_path), desc=f\"Processing {label}\"):\n",
    "            video_path = class_input_path / video_file\n",
    "            video_stem = video_file.split('.')[0]\n",
    "            save_folder = class_output_path / video_stem\n",
    "            save_folder.mkdir(exist_ok=True)\n",
    "            extract_frames_from_video(video_path, save_folder)\n",
    "\n",
    "process_videos(input_dir, output_dir)\n"
   ]
  }
 ],
 "metadata": {
  "kernelspec": {
   "display_name": "deepfake-env",
   "language": "python",
   "name": "python3"
  },
  "language_info": {
   "codemirror_mode": {
    "name": "ipython",
    "version": 3
   },
   "file_extension": ".py",
   "mimetype": "text/x-python",
   "name": "python",
   "nbconvert_exporter": "python",
   "pygments_lexer": "ipython3",
   "version": "3.9.23"
  }
 },
 "nbformat": 4,
 "nbformat_minor": 5
}
