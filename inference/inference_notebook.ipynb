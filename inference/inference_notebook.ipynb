{
 "cells": [
  {
   "cell_type": "code",
   "execution_count": 28,
   "id": "148cba86",
   "metadata": {},
   "outputs": [
    {
     "name": "stdout",
     "output_type": "stream",
     "text": [
      "Libraries & paths loaded\n"
     ]
    }
   ],
   "source": [
    "from sys import path\n",
    "path.append(\"../src\") \n",
    "path.append(\"..\")   \n",
    "\n",
    "from train_mixed_model import MixedResNet, eval_transform, DEVICE, BEST_MODEL_PATH as BEST_MIXED_MODEL\n",
    "from train_LSTM import VideoLSTM, HIDDEN_SIZE, NUM_LAYERS, BIDIRECTIONAL, DROPOUT, DEVICE as LSTM_DEVICE\n",
    "\n",
    "import torch\n",
    "import torch.nn as nn\n",
    "from torchvision import transforms\n",
    "import os\n",
    "import cv2\n",
    "import numpy as np\n",
    "from PIL import Image\n",
    "from tqdm import tqdm\n",
    "\n",
    "from sklearn.metrics import confusion_matrix, classification_report\n",
    "import seaborn as sns\n",
    "import matplotlib.pyplot as plt\n",
    "\n",
    "print(\"Libraries & paths loaded\")\n"
   ]
  },
  {
   "cell_type": "code",
   "execution_count": 25,
   "id": "aaf8623f",
   "metadata": {},
   "outputs": [
    {
     "name": "stdout",
     "output_type": "stream",
     "text": [
      "Found 20 videos: [('../inference/videos/real/id0_0008.mp4', 'real_id0_0008'), ('../inference/videos/real/id0_0009.mp4', 'real_id0_0009')]...\n"
     ]
    }
   ],
   "source": [
    "# === CONFIG: BATCH LIST ===\n",
    "\n",
    "REAL_DIR = \"../inference/videos/real\"\n",
    "FAKE_DIR = \"../inference/videos/fake\"\n",
    "\n",
    "# Make a list of tuples: (video_path, video_name)\n",
    "video_list = []\n",
    "\n",
    "for v in os.listdir(REAL_DIR):\n",
    "    if v.endswith(\".mp4\"):\n",
    "        video_list.append( (os.path.join(REAL_DIR, v), f\"real_{v.split('.')[0]}\") )\n",
    "\n",
    "for v in os.listdir(FAKE_DIR):\n",
    "    if v.endswith(\".mp4\"):\n",
    "        video_list.append( (os.path.join(FAKE_DIR, v), f\"fake_{v.split('.')[0]}\") )\n",
    "\n",
    "print(f\"Found {len(video_list)} videos: {video_list[:2]}...\")\n"
   ]
  },
  {
   "cell_type": "code",
   "execution_count": 17,
   "id": "5e94db38",
   "metadata": {},
   "outputs": [
    {
     "name": "stdout",
     "output_type": "stream",
     "text": [
      "Folders ready\n"
     ]
    }
   ],
   "source": [
    "# === CONFIG ===\n",
    "VIDEO_PATH = \"../inference/videos/real/id0_0000.mp4\"  # <-- 👈 Replace with your test Celeb-DF video\n",
    "VIDEO_NAME = \"real_000\"\n",
    "\n",
    "RGB_DIR = \"../dataset/inference_rgb\"\n",
    "FLOW_DIR = \"../dataset/inference_flow\"\n",
    "FEAT_DIR = \"../features/inference\"\n",
    "\n",
    "os.makedirs(os.path.join(RGB_DIR, VIDEO_NAME), exist_ok=True)\n",
    "os.makedirs(os.path.join(FLOW_DIR, VIDEO_NAME), exist_ok=True)\n",
    "os.makedirs(FEAT_DIR, exist_ok=True)\n",
    "\n",
    "print(\"Folders ready\")\n"
   ]
  },
  {
   "cell_type": "code",
   "execution_count": 18,
   "id": "d785f0cb",
   "metadata": {},
   "outputs": [
    {
     "name": "stdout",
     "output_type": "stream",
     "text": [
      "Extracted 469 frames.\n"
     ]
    }
   ],
   "source": [
    "cap = cv2.VideoCapture(VIDEO_PATH)\n",
    "frame_id = 0\n",
    "\n",
    "while True:\n",
    "    ret, frame = cap.read()\n",
    "    if not ret:\n",
    "        break\n",
    "    out_path = os.path.join(RGB_DIR, VIDEO_NAME, f\"frame_{frame_id:04d}.jpg\")\n",
    "    cv2.imwrite(out_path, frame)\n",
    "    frame_id += 1\n",
    "\n",
    "cap.release()\n",
    "print(f\"Extracted {frame_id} frames.\")\n"
   ]
  },
  {
   "cell_type": "code",
   "execution_count": 19,
   "id": "e124c716",
   "metadata": {},
   "outputs": [
    {
     "name": "stdout",
     "output_type": "stream",
     "text": [
      "Computed optical flow: 468 flow images.\n"
     ]
    }
   ],
   "source": [
    "from utils.optical_flow_utils import compute_optical_flow, normalize_flow, save_flow_as_image\n",
    "\n",
    "frames = sorted(os.listdir(os.path.join(RGB_DIR, VIDEO_NAME)))\n",
    "\n",
    "for i in range(len(frames)-1):\n",
    "    f1 = os.path.join(RGB_DIR, VIDEO_NAME, frames[i])\n",
    "    f2 = os.path.join(RGB_DIR, VIDEO_NAME, frames[i+1])\n",
    "\n",
    "    img1 = cv2.imread(f1)\n",
    "    img2 = cv2.imread(f2)\n",
    "\n",
    "    gray1 = cv2.cvtColor(img1, cv2.COLOR_BGR2GRAY)\n",
    "    gray2 = cv2.cvtColor(img2, cv2.COLOR_BGR2GRAY)\n",
    "\n",
    "    flow = compute_optical_flow(gray1, gray2)\n",
    "    norm_flow = normalize_flow(flow)\n",
    "\n",
    "    out_path = os.path.join(FLOW_DIR, VIDEO_NAME)\n",
    "    os.makedirs(out_path, exist_ok=True)\n",
    "    save_flow_as_image(norm_flow, os.path.join(out_path, f\"flow_{i:04d}.jpg\"))\n",
    "\n",
    "print(f\"Computed optical flow: {len(frames)-1} flow images.\")\n"
   ]
  },
  {
   "cell_type": "code",
   "execution_count": 20,
   "id": "e3b918a4",
   "metadata": {},
   "outputs": [
    {
     "name": "stdout",
     "output_type": "stream",
     "text": [
      "Found 468 RGB frames for feature extraction.\n"
     ]
    },
    {
     "name": "stderr",
     "output_type": "stream",
     "text": [
      "Extracting features: 100%|██████████| 468/468 [00:13<00:00, 34.69it/s]"
     ]
    },
    {
     "name": "stdout",
     "output_type": "stream",
     "text": [
      "✅ Saved features: ../features/inference/real_000.npy shape=(468, 1024)\n"
     ]
    },
    {
     "name": "stderr",
     "output_type": "stream",
     "text": [
      "\n"
     ]
    }
   ],
   "source": [
    "# === Load frozen MixedResNet===\n",
    "BEST_MIXED_MODEL = \"../models/mixed_model/best_mixed_model.pth\"\n",
    "\n",
    "# === Load model ===\n",
    "model = MixedResNet().to(DEVICE)\n",
    "assert os.path.exists(BEST_MIXED_MODEL), f\"Path not found: {BEST_MIXED_MODEL}\"\n",
    "model.load_state_dict(torch.load(BEST_MIXED_MODEL, map_location=DEVICE))\n",
    "model.head = torch.nn.Identity()\n",
    "model.eval()\n",
    "\n",
    "# === Video directories ===\n",
    "rgb_vid_dir = os.path.join(RGB_DIR, VIDEO_NAME)\n",
    "flow_vid_dir = os.path.join(FLOW_DIR, VIDEO_NAME)\n",
    "\n",
    "assert os.path.exists(rgb_vid_dir), f\" RGB folder missing: {rgb_vid_dir}\"\n",
    "assert os.path.exists(flow_vid_dir), f\"Flow folder missing: {flow_vid_dir}\"\n",
    "\n",
    "frames = sorted(os.listdir(rgb_vid_dir))\n",
    "frames = [f for f in frames if f.endswith(\".jpg\")]  # only images\n",
    "frames = frames[:-1]  # drop last\n",
    "\n",
    "print(f\"Found {len(frames)} RGB frames for feature extraction.\")\n",
    "\n",
    "video_feats = []\n",
    "\n",
    "with torch.no_grad():\n",
    "    for frame in tqdm(frames, desc=\"Extracting features\"):\n",
    "        rgb_path = os.path.join(rgb_vid_dir, frame)\n",
    "        flow_name = frame.replace(\"frame_\", \"flow_\")\n",
    "        flow_path = os.path.join(flow_vid_dir, flow_name)\n",
    "\n",
    "        if not os.path.exists(flow_path):\n",
    "            print(f\"[WARN] Missing flow frame: {flow_path}\")\n",
    "            continue\n",
    "\n",
    "        rgb = Image.open(rgb_path).convert(\"RGB\")\n",
    "        of  = Image.open(flow_path).convert(\"RGB\")\n",
    "\n",
    "        rgb = eval_transform(rgb).unsqueeze(0).to(DEVICE)\n",
    "        of  = eval_transform(of).unsqueeze(0).to(DEVICE)\n",
    "\n",
    "        feat = model(rgb, of).squeeze().cpu().numpy()\n",
    "        video_feats.append(feat)\n",
    "\n",
    "# === Stack & save ===\n",
    "if video_feats:\n",
    "    feats_array = np.stack(video_feats)  # (T, 1024)\n",
    "    feat_file = os.path.join(FEAT_DIR, f\"{VIDEO_NAME}.npy\")\n",
    "    np.save(feat_file, feats_array)\n",
    "    print(f\"✅ Saved features: {feat_file} shape={feats_array.shape}\")\n",
    "else:\n",
    "    print(\"No features extracted. Check your frames.\")\n"
   ]
  },
  {
   "cell_type": "code",
   "execution_count": 21,
   "id": "01895d94",
   "metadata": {},
   "outputs": [
    {
     "name": "stdout",
     "output_type": "stream",
     "text": [
      "\n",
      "✅ Final prediction: REAL\n",
      "Confidence: Real=0.6878, Fake=0.3122\n"
     ]
    }
   ],
   "source": [
    "# === Load trained LSTM ===\n",
    "lstm_path = \"../models/lstm_model/best_lstm.pth\"\n",
    "\n",
    "# same settings as training\n",
    "lstm_model = VideoLSTM(\n",
    "    input_size=1024,\n",
    "    hidden_size=HIDDEN_SIZE,\n",
    "    num_layers=NUM_LAYERS,\n",
    "    bidirectional=BIDIRECTIONAL,\n",
    "    dropout=DROPOUT\n",
    ").to(LSTM_DEVICE)\n",
    "\n",
    "lstm_model.load_state_dict(torch.load(lstm_path, map_location=LSTM_DEVICE))\n",
    "lstm_model.eval()\n",
    "\n",
    "features = np.load(feat_file)\n",
    "features = torch.from_numpy(features).unsqueeze(0).float().to(LSTM_DEVICE)  # (1,T,1024)\n",
    "\n",
    "with torch.no_grad():\n",
    "    output = lstm_model(features)\n",
    "    probs = torch.softmax(output, dim=1).cpu().numpy().squeeze()\n",
    "\n",
    "    pred = np.argmax(probs)\n",
    "    label = \"REAL\" if pred == 0 else \"FAKE\"\n",
    "\n",
    "print(f\"\\n✅ Final prediction: {label}\")\n",
    "print(f\"Confidence: Real={probs[0]:.4f}, Fake={probs[1]:.4f}\")\n"
   ]
  },
  {
   "cell_type": "code",
   "execution_count": 26,
   "id": "70c83882",
   "metadata": {},
   "outputs": [
    {
     "name": "stdout",
     "output_type": "stream",
     "text": [
      "\n",
      "=== Processing real_id0_0008 ===\n",
      "  Frames extracted: 464\n",
      "  Optical flow computed: 463\n"
     ]
    },
    {
     "name": "stderr",
     "output_type": "stream",
     "text": [
      "Extracting features: 100%|██████████| 463/463 [00:13<00:00, 35.16it/s]\n"
     ]
    },
    {
     "name": "stdout",
     "output_type": "stream",
     "text": [
      "  ✅ Final: real_id0_0008 => FAKE | Real=0.0004, Fake=0.9996\n",
      "\n",
      "=== Processing real_id0_0009 ===\n",
      "  Frames extracted: 520\n",
      "  Optical flow computed: 519\n"
     ]
    },
    {
     "name": "stderr",
     "output_type": "stream",
     "text": [
      "Extracting features: 100%|██████████| 519/519 [00:15<00:00, 34.29it/s]\n"
     ]
    },
    {
     "name": "stdout",
     "output_type": "stream",
     "text": [
      "  ✅ Final: real_id0_0009 => REAL | Real=0.9710, Fake=0.0290\n",
      "\n",
      "=== Processing real_id0_0002 ===\n",
      "  Frames extracted: 350\n",
      "  Optical flow computed: 349\n"
     ]
    },
    {
     "name": "stderr",
     "output_type": "stream",
     "text": [
      "Extracting features: 100%|██████████| 349/349 [00:09<00:00, 35.91it/s]\n"
     ]
    },
    {
     "name": "stdout",
     "output_type": "stream",
     "text": [
      "  ✅ Final: real_id0_0002 => REAL | Real=0.9925, Fake=0.0075\n",
      "\n",
      "=== Processing real_id0_0003 ===\n",
      "  Frames extracted: 529\n",
      "  Optical flow computed: 528\n"
     ]
    },
    {
     "name": "stderr",
     "output_type": "stream",
     "text": [
      "Extracting features: 100%|██████████| 528/528 [00:14<00:00, 37.45it/s]\n"
     ]
    },
    {
     "name": "stdout",
     "output_type": "stream",
     "text": [
      "  ✅ Final: real_id0_0003 => REAL | Real=0.9868, Fake=0.0132\n",
      "\n",
      "=== Processing real_id0_0001 ===\n",
      "  Frames extracted: 303\n",
      "  Optical flow computed: 302\n"
     ]
    },
    {
     "name": "stderr",
     "output_type": "stream",
     "text": [
      "Extracting features: 100%|██████████| 302/302 [00:08<00:00, 37.62it/s]\n"
     ]
    },
    {
     "name": "stdout",
     "output_type": "stream",
     "text": [
      "  ✅ Final: real_id0_0001 => REAL | Real=0.9894, Fake=0.0106\n",
      "\n",
      "=== Processing real_id0_0000 ===\n",
      "  Frames extracted: 469\n",
      "  Optical flow computed: 468\n"
     ]
    },
    {
     "name": "stderr",
     "output_type": "stream",
     "text": [
      "Extracting features: 100%|██████████| 468/468 [00:13<00:00, 35.53it/s]\n"
     ]
    },
    {
     "name": "stdout",
     "output_type": "stream",
     "text": [
      "  ✅ Final: real_id0_0000 => REAL | Real=0.6878, Fake=0.3122\n",
      "\n",
      "=== Processing real_id0_0004 ===\n",
      "  Frames extracted: 326\n",
      "  Optical flow computed: 325\n"
     ]
    },
    {
     "name": "stderr",
     "output_type": "stream",
     "text": [
      "Extracting features: 100%|██████████| 325/325 [00:08<00:00, 36.98it/s]\n"
     ]
    },
    {
     "name": "stdout",
     "output_type": "stream",
     "text": [
      "  ✅ Final: real_id0_0004 => FAKE | Real=0.1399, Fake=0.8601\n",
      "\n",
      "=== Processing real_id0_0005 ===\n",
      "  Frames extracted: 459\n",
      "  Optical flow computed: 458\n"
     ]
    },
    {
     "name": "stderr",
     "output_type": "stream",
     "text": [
      "Extracting features: 100%|██████████| 458/458 [00:12<00:00, 37.00it/s]\n"
     ]
    },
    {
     "name": "stdout",
     "output_type": "stream",
     "text": [
      "  ✅ Final: real_id0_0005 => REAL | Real=0.6772, Fake=0.3228\n",
      "\n",
      "=== Processing real_id0_0007 ===\n",
      "  Frames extracted: 479\n",
      "  Optical flow computed: 478\n"
     ]
    },
    {
     "name": "stderr",
     "output_type": "stream",
     "text": [
      "Extracting features: 100%|██████████| 478/478 [00:13<00:00, 35.97it/s]\n"
     ]
    },
    {
     "name": "stdout",
     "output_type": "stream",
     "text": [
      "  ✅ Final: real_id0_0007 => REAL | Real=0.5152, Fake=0.4848\n",
      "\n",
      "=== Processing real_id0_0006 ===\n",
      "  Frames extracted: 534\n",
      "  Optical flow computed: 533\n"
     ]
    },
    {
     "name": "stderr",
     "output_type": "stream",
     "text": [
      "Extracting features: 100%|██████████| 533/533 [00:14<00:00, 35.60it/s]\n"
     ]
    },
    {
     "name": "stdout",
     "output_type": "stream",
     "text": [
      "  ✅ Final: real_id0_0006 => FAKE | Real=0.0594, Fake=0.9406\n",
      "\n",
      "=== Processing fake_id0_id16_0008 ===\n",
      "  Frames extracted: 464\n",
      "  Optical flow computed: 463\n"
     ]
    },
    {
     "name": "stderr",
     "output_type": "stream",
     "text": [
      "Extracting features: 100%|██████████| 463/463 [00:12<00:00, 35.76it/s]\n"
     ]
    },
    {
     "name": "stdout",
     "output_type": "stream",
     "text": [
      "  ✅ Final: fake_id0_id16_0008 => FAKE | Real=0.0005, Fake=0.9995\n",
      "\n",
      "=== Processing fake_id0_id16_0009 ===\n",
      "  Frames extracted: 520\n",
      "  Optical flow computed: 519\n"
     ]
    },
    {
     "name": "stderr",
     "output_type": "stream",
     "text": [
      "Extracting features: 100%|██████████| 519/519 [00:14<00:00, 36.42it/s]\n"
     ]
    },
    {
     "name": "stdout",
     "output_type": "stream",
     "text": [
      "  ✅ Final: fake_id0_id16_0009 => REAL | Real=0.6910, Fake=0.3090\n",
      "\n",
      "=== Processing fake_id0_id16_0001 ===\n",
      "  Frames extracted: 303\n",
      "  Optical flow computed: 302\n"
     ]
    },
    {
     "name": "stderr",
     "output_type": "stream",
     "text": [
      "Extracting features: 100%|██████████| 302/302 [00:08<00:00, 35.29it/s]\n"
     ]
    },
    {
     "name": "stdout",
     "output_type": "stream",
     "text": [
      "  ✅ Final: fake_id0_id16_0001 => FAKE | Real=0.1392, Fake=0.8608\n",
      "\n",
      "=== Processing fake_id0_id16_0000 ===\n",
      "  Frames extracted: 469\n",
      "  Optical flow computed: 468\n"
     ]
    },
    {
     "name": "stderr",
     "output_type": "stream",
     "text": [
      "Extracting features: 100%|██████████| 468/468 [00:12<00:00, 37.11it/s]\n"
     ]
    },
    {
     "name": "stdout",
     "output_type": "stream",
     "text": [
      "  ✅ Final: fake_id0_id16_0000 => FAKE | Real=0.0448, Fake=0.9552\n",
      "\n",
      "=== Processing fake_id0_id16_0002 ===\n",
      "  Frames extracted: 350\n",
      "  Optical flow computed: 349\n"
     ]
    },
    {
     "name": "stderr",
     "output_type": "stream",
     "text": [
      "Extracting features: 100%|██████████| 349/349 [00:09<00:00, 36.38it/s]\n"
     ]
    },
    {
     "name": "stdout",
     "output_type": "stream",
     "text": [
      "  ✅ Final: fake_id0_id16_0002 => FAKE | Real=0.0064, Fake=0.9936\n",
      "\n",
      "=== Processing fake_id0_id16_0003 ===\n",
      "  Frames extracted: 529\n",
      "  Optical flow computed: 528\n"
     ]
    },
    {
     "name": "stderr",
     "output_type": "stream",
     "text": [
      "Extracting features: 100%|██████████| 528/528 [00:13<00:00, 38.67it/s]\n"
     ]
    },
    {
     "name": "stdout",
     "output_type": "stream",
     "text": [
      "  ✅ Final: fake_id0_id16_0003 => FAKE | Real=0.0042, Fake=0.9958\n",
      "\n",
      "=== Processing fake_id0_id16_0007 ===\n",
      "  Frames extracted: 479\n",
      "  Optical flow computed: 478\n"
     ]
    },
    {
     "name": "stderr",
     "output_type": "stream",
     "text": [
      "Extracting features: 100%|██████████| 478/478 [00:13<00:00, 36.61it/s]\n"
     ]
    },
    {
     "name": "stdout",
     "output_type": "stream",
     "text": [
      "  ✅ Final: fake_id0_id16_0007 => FAKE | Real=0.0404, Fake=0.9596\n",
      "\n",
      "=== Processing fake_id0_id16_0006 ===\n",
      "  Frames extracted: 534\n",
      "  Optical flow computed: 533\n"
     ]
    },
    {
     "name": "stderr",
     "output_type": "stream",
     "text": [
      "Extracting features: 100%|██████████| 533/533 [00:14<00:00, 35.65it/s]\n"
     ]
    },
    {
     "name": "stdout",
     "output_type": "stream",
     "text": [
      "  ✅ Final: fake_id0_id16_0006 => FAKE | Real=0.0007, Fake=0.9993\n",
      "\n",
      "=== Processing fake_id0_id16_0004 ===\n",
      "  Frames extracted: 326\n",
      "  Optical flow computed: 325\n"
     ]
    },
    {
     "name": "stderr",
     "output_type": "stream",
     "text": [
      "Extracting features: 100%|██████████| 325/325 [00:09<00:00, 35.62it/s]\n"
     ]
    },
    {
     "name": "stdout",
     "output_type": "stream",
     "text": [
      "  ✅ Final: fake_id0_id16_0004 => FAKE | Real=0.0365, Fake=0.9635\n",
      "\n",
      "=== Processing fake_id0_id16_0005 ===\n",
      "  Frames extracted: 459\n",
      "  Optical flow computed: 458\n"
     ]
    },
    {
     "name": "stderr",
     "output_type": "stream",
     "text": [
      "Extracting features: 100%|██████████| 458/458 [00:12<00:00, 38.09it/s]\n"
     ]
    },
    {
     "name": "stdout",
     "output_type": "stream",
     "text": [
      "  ✅ Final: fake_id0_id16_0005 => FAKE | Real=0.0373, Fake=0.9627\n"
     ]
    }
   ],
   "source": [
    "# === FULL BATCH INFERENCE ===\n",
    "\n",
    "for VIDEO_PATH, VIDEO_NAME in video_list:\n",
    "    print(f\"\\n=== Processing {VIDEO_NAME} ===\")\n",
    "\n",
    "    # 1️⃣ Create folders\n",
    "    os.makedirs(os.path.join(RGB_DIR, VIDEO_NAME), exist_ok=True)\n",
    "    os.makedirs(os.path.join(FLOW_DIR, VIDEO_NAME), exist_ok=True)\n",
    "\n",
    "    # 2️⃣ Extract frames\n",
    "    cap = cv2.VideoCapture(VIDEO_PATH)\n",
    "    frame_id = 0\n",
    "    while True:\n",
    "        ret, frame = cap.read()\n",
    "        if not ret:\n",
    "            break\n",
    "        out_path = os.path.join(RGB_DIR, VIDEO_NAME, f\"frame_{frame_id:04d}.jpg\")\n",
    "        cv2.imwrite(out_path, frame)\n",
    "        frame_id += 1\n",
    "    cap.release()\n",
    "    print(f\"  Frames extracted: {frame_id}\")\n",
    "\n",
    "    # 3️⃣ Compute optical flow\n",
    "    from utils.optical_flow_utils import compute_optical_flow, normalize_flow, save_flow_as_image\n",
    "\n",
    "    frames = sorted(os.listdir(os.path.join(RGB_DIR, VIDEO_NAME)))\n",
    "    for i in range(len(frames) - 1):\n",
    "        f1 = os.path.join(RGB_DIR, VIDEO_NAME, frames[i])\n",
    "        f2 = os.path.join(RGB_DIR, VIDEO_NAME, frames[i + 1])\n",
    "\n",
    "        img1 = cv2.imread(f1)\n",
    "        img2 = cv2.imread(f2)\n",
    "        gray1 = cv2.cvtColor(img1, cv2.COLOR_BGR2GRAY)\n",
    "        gray2 = cv2.cvtColor(img2, cv2.COLOR_BGR2GRAY)\n",
    "        flow = compute_optical_flow(gray1, gray2)\n",
    "        norm_flow = normalize_flow(flow)\n",
    "        out_flow_dir = os.path.join(FLOW_DIR, VIDEO_NAME)\n",
    "        os.makedirs(out_flow_dir, exist_ok=True)\n",
    "        save_flow_as_image(norm_flow, os.path.join(out_flow_dir, f\"flow_{i:04d}.jpg\"))\n",
    "    print(f\"  Optical flow computed: {len(frames) - 1}\")\n",
    "\n",
    "    # 4️⃣ Extract features\n",
    "    rgb_vid_dir = os.path.join(RGB_DIR, VIDEO_NAME)\n",
    "    flow_vid_dir = os.path.join(FLOW_DIR, VIDEO_NAME)\n",
    "    frames = sorted(os.listdir(rgb_vid_dir))\n",
    "    frames = [f for f in frames if f.endswith(\".jpg\")][:-1]\n",
    "\n",
    "    video_feats = []\n",
    "    with torch.no_grad():\n",
    "        for frame in tqdm(frames, desc=\"Extracting features\"):\n",
    "            rgb_path = os.path.join(rgb_vid_dir, frame)\n",
    "            flow_name = frame.replace(\"frame_\", \"flow_\")\n",
    "            flow_path = os.path.join(flow_vid_dir, flow_name)\n",
    "            if not os.path.exists(flow_path):\n",
    "                continue\n",
    "            rgb = Image.open(rgb_path).convert(\"RGB\")\n",
    "            of = Image.open(flow_path).convert(\"RGB\")\n",
    "            rgb = eval_transform(rgb).unsqueeze(0).to(DEVICE)\n",
    "            of = eval_transform(of).unsqueeze(0).to(DEVICE)\n",
    "            feat = model(rgb, of).squeeze().cpu().numpy()\n",
    "            video_feats.append(feat)\n",
    "\n",
    "    if not video_feats:\n",
    "        print(\"No features extracted!\")\n",
    "        continue\n",
    "\n",
    "    feats_array = np.stack(video_feats)\n",
    "    feat_file = os.path.join(FEAT_DIR, f\"{VIDEO_NAME}.npy\")\n",
    "    np.save(feat_file, feats_array)\n",
    "\n",
    "    # 5️⃣ Predict with LSTM\n",
    "    features = torch.from_numpy(feats_array).unsqueeze(0).float().to(LSTM_DEVICE)\n",
    "    with torch.no_grad():\n",
    "        output = lstm_model(features)\n",
    "        probs = torch.softmax(output, dim=1).cpu().numpy().squeeze()\n",
    "        pred = np.argmax(probs)\n",
    "        label = \"REAL\" if pred == 0 else \"FAKE\"\n",
    "        print(f\"  ✅ Final: {VIDEO_NAME} => {label} | Real={probs[0]:.4f}, Fake={probs[1]:.4f}\")\n"
   ]
  },
  {
   "cell_type": "code",
   "execution_count": 29,
   "id": "fd8221d0",
   "metadata": {},
   "outputs": [
    {
     "name": "stdout",
     "output_type": "stream",
     "text": [
      "\n",
      "Confusion Matrix:\n",
      " [[7 3]\n",
      " [1 9]]\n",
      "\n",
      "Classification Report:\n",
      "              precision    recall  f1-score   support\n",
      "\n",
      "        REAL       0.88      0.70      0.78        10\n",
      "        FAKE       0.75      0.90      0.82        10\n",
      "\n",
      "    accuracy                           0.80        20\n",
      "   macro avg       0.81      0.80      0.80        20\n",
      "weighted avg       0.81      0.80      0.80        20\n",
      "\n"
     ]
    },
    {
     "data": {
      "image/png": "[encoded data removed]",
      "text/plain": [
       "<Figure size 600x400 with 2 Axes>"
      ]
     },
     "metadata": {},
     "output_type": "display_data"
    }
   ],
   "source": [
    "# === FULL BATCH INFERENCE ===\n",
    "# Store true and predicted labels\n",
    "true_labels = []\n",
    "pred_labels = []\n",
    "\n",
    "for VIDEO_PATH, VIDEO_NAME in video_list:\n",
    "    # Ground truth from filename\n",
    "    true = 0 if VIDEO_NAME.startswith(\"real_\") else 1\n",
    "    true_labels.append(true)\n",
    "\n",
    "    # Load prediction\n",
    "    feat_file = os.path.join(FEAT_DIR, f\"{VIDEO_NAME}.npy\")\n",
    "    if not os.path.exists(feat_file):\n",
    "        print(f\"[WARN] Missing features for: {VIDEO_NAME}\")\n",
    "        pred_labels.append(-1)\n",
    "        continue\n",
    "\n",
    "    feats_array = np.load(feat_file)\n",
    "    features = torch.from_numpy(feats_array).unsqueeze(0).float().to(LSTM_DEVICE)\n",
    "    with torch.no_grad():\n",
    "        output = lstm_model(features)\n",
    "        probs = torch.softmax(output, dim=1).cpu().numpy().squeeze()\n",
    "        pred = np.argmax(probs)\n",
    "        pred_labels.append(pred)\n",
    "\n",
    "# Remove any -1 predictions (missing)\n",
    "pairs = [(t, p) for t, p in zip(true_labels, pred_labels) if p >= 0]\n",
    "true_clean, pred_clean = zip(*pairs)\n",
    "\n",
    "# === 1️⃣ Text confusion matrix ===\n",
    "cm = confusion_matrix(true_clean, pred_clean)\n",
    "print(\"\\nConfusion Matrix:\\n\", cm)\n",
    "\n",
    "print(\"\\nClassification Report:\")\n",
    "print(classification_report(true_clean, pred_clean, target_names=[\"REAL\", \"FAKE\"]))\n",
    "\n",
    "# === 2️⃣ Plot heatmap ===\n",
    "plt.figure(figsize=(6, 4))\n",
    "sns.heatmap(cm, annot=True, fmt=\"d\", cmap=\"Blues\",\n",
    "            xticklabels=[\"Pred REAL\", \"Pred FAKE\"],\n",
    "            yticklabels=[\"True REAL\", \"True FAKE\"])\n",
    "plt.xlabel(\"Predicted\")\n",
    "plt.ylabel(\"Actual\")\n",
    "plt.title(\"Confusion Matrix Heatmap\")\n",
    "plt.show()\n"
   ]
  }
 ],
 "metadata": {
  "kernelspec": {
   "display_name": "deepfake-env",
   "language": "python",
   "name": "python3"
  },
  "language_info": {
   "codemirror_mode": {
    "name": "ipython",
    "version": 3
   },
   "file_extension": ".py",
   "mimetype": "text/x-python",
   "name": "python",
   "nbconvert_exporter": "python",
   "pygments_lexer": "ipython3",
   "version": "3.9.23"
  }
 },
 "nbformat": 4,
 "nbformat_minor": 5
}
